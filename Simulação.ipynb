{
 "cells": [
  {
   "cell_type": "markdown",
   "metadata": {},
   "source": [
    "Este Jupyter notebook contém uma exposição sucinta da _codebase_ utilizada no trabalho de simulação discreta. Seu propósito primário é instruir o usuário à utilização do código contido no repositório [@ygarasab/popcorn-production](https://github.com/ygarasab/popcorn-production)."
   ]
  },
  {
   "cell_type": "markdown",
   "metadata": {},
   "source": [
    "# Requisitos"
   ]
  },
  {
   "cell_type": "code",
   "execution_count": 1,
   "metadata": {},
   "outputs": [],
   "source": [
    "import numpy as np\n",
    "import pandas as pd\n",
    "import codigo.simulacao as sim\n",
    "import seaborn as sns"
   ]
  },
  {
   "cell_type": "code",
   "execution_count": 2,
   "metadata": {},
   "outputs": [],
   "source": [
    "from matplotlib import pyplot as plt\n",
    "from matplotlib import ticker as tkr\n",
    "from datetime import datetime\n",
    "from codigo.simulacao.entidades.subentidade import SubEntidade"
   ]
  },
  {
   "cell_type": "markdown",
   "metadata": {},
   "source": [
    "# Pré-processando o conjunto de dados"
   ]
  },
  {
   "cell_type": "markdown",
   "metadata": {},
   "source": [
    "Começamos importando nosso dataset como um `DataFrame`."
   ]
  },
  {
   "cell_type": "code",
   "execution_count": 3,
   "metadata": {
    "pycharm": {
     "name": "#%%\n"
    }
   },
   "outputs": [],
   "source": [
    "df = pd.read_csv('dados/Production.csv').drop(['EmergencyStop'], axis=1)"
   ]
  },
  {
   "cell_type": "code",
   "execution_count": 4,
   "metadata": {},
   "outputs": [],
   "source": [
    "df_n_linhas, df_n_colunas = df.shape[0], df.shape[1]\n",
    "df_colunas = df.columns"
   ]
  },
  {
   "cell_type": "code",
   "execution_count": 5,
   "metadata": {},
   "outputs": [
    {
     "data": {
      "text/html": [
       "<div>\n",
       "<style scoped>\n",
       "    .dataframe tbody tr th:only-of-type {\n",
       "        vertical-align: middle;\n",
       "    }\n",
       "\n",
       "    .dataframe tbody tr th {\n",
       "        vertical-align: top;\n",
       "    }\n",
       "\n",
       "    .dataframe thead th {\n",
       "        text-align: right;\n",
       "    }\n",
       "</style>\n",
       "<table border=\"1\" class=\"dataframe\">\n",
       "  <thead>\n",
       "    <tr style=\"text-align: right;\">\n",
       "      <th></th>\n",
       "      <th>Timestamp</th>\n",
       "      <th>CupState</th>\n",
       "      <th>CurrentWeight</th>\n",
       "      <th>FanOn</th>\n",
       "      <th>HeatCoverClosed</th>\n",
       "      <th>HeaterOn</th>\n",
       "      <th>HeatingTimePercent</th>\n",
       "      <th>PotAvailable</th>\n",
       "      <th>Produce</th>\n",
       "      <th>ScaleCupDown</th>\n",
       "      <th>ScaleCupUp</th>\n",
       "      <th>SwitchToPot</th>\n",
       "      <th>TrackSwitchAtCup</th>\n",
       "      <th>TrackSwitchAtPot</th>\n",
       "      <th>TurnScaleCup</th>\n",
       "    </tr>\n",
       "  </thead>\n",
       "  <tbody>\n",
       "    <tr>\n",
       "      <th>0</th>\n",
       "      <td>1516355920018</td>\n",
       "      <td>1</td>\n",
       "      <td>0.092367</td>\n",
       "      <td>0</td>\n",
       "      <td>1</td>\n",
       "      <td>0</td>\n",
       "      <td>0</td>\n",
       "      <td>1</td>\n",
       "      <td>0</td>\n",
       "      <td>0</td>\n",
       "      <td>1</td>\n",
       "      <td>0</td>\n",
       "      <td>1</td>\n",
       "      <td>0</td>\n",
       "      <td>0</td>\n",
       "    </tr>\n",
       "    <tr>\n",
       "      <th>1</th>\n",
       "      <td>1516355920120</td>\n",
       "      <td>1</td>\n",
       "      <td>0.153945</td>\n",
       "      <td>0</td>\n",
       "      <td>1</td>\n",
       "      <td>0</td>\n",
       "      <td>0</td>\n",
       "      <td>1</td>\n",
       "      <td>0</td>\n",
       "      <td>0</td>\n",
       "      <td>1</td>\n",
       "      <td>0</td>\n",
       "      <td>1</td>\n",
       "      <td>0</td>\n",
       "      <td>0</td>\n",
       "    </tr>\n",
       "    <tr>\n",
       "      <th>2</th>\n",
       "      <td>1516355920229</td>\n",
       "      <td>1</td>\n",
       "      <td>0.092367</td>\n",
       "      <td>0</td>\n",
       "      <td>1</td>\n",
       "      <td>0</td>\n",
       "      <td>0</td>\n",
       "      <td>1</td>\n",
       "      <td>0</td>\n",
       "      <td>0</td>\n",
       "      <td>1</td>\n",
       "      <td>0</td>\n",
       "      <td>1</td>\n",
       "      <td>0</td>\n",
       "      <td>0</td>\n",
       "    </tr>\n",
       "    <tr>\n",
       "      <th>3</th>\n",
       "      <td>1516355920339</td>\n",
       "      <td>1</td>\n",
       "      <td>0.123156</td>\n",
       "      <td>0</td>\n",
       "      <td>1</td>\n",
       "      <td>0</td>\n",
       "      <td>0</td>\n",
       "      <td>1</td>\n",
       "      <td>0</td>\n",
       "      <td>0</td>\n",
       "      <td>1</td>\n",
       "      <td>0</td>\n",
       "      <td>1</td>\n",
       "      <td>0</td>\n",
       "      <td>0</td>\n",
       "    </tr>\n",
       "    <tr>\n",
       "      <th>4</th>\n",
       "      <td>1516355920450</td>\n",
       "      <td>1</td>\n",
       "      <td>0.123156</td>\n",
       "      <td>0</td>\n",
       "      <td>1</td>\n",
       "      <td>0</td>\n",
       "      <td>0</td>\n",
       "      <td>1</td>\n",
       "      <td>0</td>\n",
       "      <td>0</td>\n",
       "      <td>1</td>\n",
       "      <td>0</td>\n",
       "      <td>1</td>\n",
       "      <td>0</td>\n",
       "      <td>0</td>\n",
       "    </tr>\n",
       "  </tbody>\n",
       "</table>\n",
       "</div>"
      ],
      "text/plain": [
       "       Timestamp  CupState  CurrentWeight  FanOn  HeatCoverClosed  HeaterOn  \\\n",
       "0  1516355920018         1       0.092367      0                1         0   \n",
       "1  1516355920120         1       0.153945      0                1         0   \n",
       "2  1516355920229         1       0.092367      0                1         0   \n",
       "3  1516355920339         1       0.123156      0                1         0   \n",
       "4  1516355920450         1       0.123156      0                1         0   \n",
       "\n",
       "   HeatingTimePercent  PotAvailable  Produce  ScaleCupDown  ScaleCupUp  \\\n",
       "0                   0             1        0             0           1   \n",
       "1                   0             1        0             0           1   \n",
       "2                   0             1        0             0           1   \n",
       "3                   0             1        0             0           1   \n",
       "4                   0             1        0             0           1   \n",
       "\n",
       "   SwitchToPot  TrackSwitchAtCup  TrackSwitchAtPot  TurnScaleCup  \n",
       "0            0                 1                 0             0  \n",
       "1            0                 1                 0             0  \n",
       "2            0                 1                 0             0  \n",
       "3            0                 1                 0             0  \n",
       "4            0                 1                 0             0  "
      ]
     },
     "execution_count": 5,
     "metadata": {},
     "output_type": "execute_result"
    }
   ],
   "source": [
    "df.head(5)"
   ]
  },
  {
   "cell_type": "markdown",
   "metadata": {},
   "source": [
    "Em seguida, convertemos as _timestamps_ para um formato mais amigável."
   ]
  },
  {
   "cell_type": "code",
   "execution_count": 6,
   "metadata": {},
   "outputs": [],
   "source": [
    "for index in range(df_n_linhas):\n",
    "    unix_ts = df.at[index, 'Timestamp']\n",
    "    df.at[index, 'Timestamp'] = datetime.fromtimestamp(unix_ts/1000)"
   ]
  },
  {
   "cell_type": "code",
   "execution_count": 7,
   "metadata": {},
   "outputs": [
    {
     "data": {
      "text/html": [
       "<div>\n",
       "<style scoped>\n",
       "    .dataframe tbody tr th:only-of-type {\n",
       "        vertical-align: middle;\n",
       "    }\n",
       "\n",
       "    .dataframe tbody tr th {\n",
       "        vertical-align: top;\n",
       "    }\n",
       "\n",
       "    .dataframe thead th {\n",
       "        text-align: right;\n",
       "    }\n",
       "</style>\n",
       "<table border=\"1\" class=\"dataframe\">\n",
       "  <thead>\n",
       "    <tr style=\"text-align: right;\">\n",
       "      <th></th>\n",
       "      <th>Timestamp</th>\n",
       "      <th>CupState</th>\n",
       "      <th>CurrentWeight</th>\n",
       "      <th>FanOn</th>\n",
       "      <th>HeatCoverClosed</th>\n",
       "      <th>HeaterOn</th>\n",
       "      <th>HeatingTimePercent</th>\n",
       "      <th>PotAvailable</th>\n",
       "      <th>Produce</th>\n",
       "      <th>ScaleCupDown</th>\n",
       "      <th>ScaleCupUp</th>\n",
       "      <th>SwitchToPot</th>\n",
       "      <th>TrackSwitchAtCup</th>\n",
       "      <th>TrackSwitchAtPot</th>\n",
       "      <th>TurnScaleCup</th>\n",
       "    </tr>\n",
       "  </thead>\n",
       "  <tbody>\n",
       "    <tr>\n",
       "      <th>0</th>\n",
       "      <td>2018-01-19 06:58:40.018000</td>\n",
       "      <td>1</td>\n",
       "      <td>0.092367</td>\n",
       "      <td>0</td>\n",
       "      <td>1</td>\n",
       "      <td>0</td>\n",
       "      <td>0</td>\n",
       "      <td>1</td>\n",
       "      <td>0</td>\n",
       "      <td>0</td>\n",
       "      <td>1</td>\n",
       "      <td>0</td>\n",
       "      <td>1</td>\n",
       "      <td>0</td>\n",
       "      <td>0</td>\n",
       "    </tr>\n",
       "    <tr>\n",
       "      <th>1</th>\n",
       "      <td>2018-01-19 06:58:40.120000</td>\n",
       "      <td>1</td>\n",
       "      <td>0.153945</td>\n",
       "      <td>0</td>\n",
       "      <td>1</td>\n",
       "      <td>0</td>\n",
       "      <td>0</td>\n",
       "      <td>1</td>\n",
       "      <td>0</td>\n",
       "      <td>0</td>\n",
       "      <td>1</td>\n",
       "      <td>0</td>\n",
       "      <td>1</td>\n",
       "      <td>0</td>\n",
       "      <td>0</td>\n",
       "    </tr>\n",
       "    <tr>\n",
       "      <th>2</th>\n",
       "      <td>2018-01-19 06:58:40.229000</td>\n",
       "      <td>1</td>\n",
       "      <td>0.092367</td>\n",
       "      <td>0</td>\n",
       "      <td>1</td>\n",
       "      <td>0</td>\n",
       "      <td>0</td>\n",
       "      <td>1</td>\n",
       "      <td>0</td>\n",
       "      <td>0</td>\n",
       "      <td>1</td>\n",
       "      <td>0</td>\n",
       "      <td>1</td>\n",
       "      <td>0</td>\n",
       "      <td>0</td>\n",
       "    </tr>\n",
       "    <tr>\n",
       "      <th>3</th>\n",
       "      <td>2018-01-19 06:58:40.339000</td>\n",
       "      <td>1</td>\n",
       "      <td>0.123156</td>\n",
       "      <td>0</td>\n",
       "      <td>1</td>\n",
       "      <td>0</td>\n",
       "      <td>0</td>\n",
       "      <td>1</td>\n",
       "      <td>0</td>\n",
       "      <td>0</td>\n",
       "      <td>1</td>\n",
       "      <td>0</td>\n",
       "      <td>1</td>\n",
       "      <td>0</td>\n",
       "      <td>0</td>\n",
       "    </tr>\n",
       "    <tr>\n",
       "      <th>4</th>\n",
       "      <td>2018-01-19 06:58:40.450000</td>\n",
       "      <td>1</td>\n",
       "      <td>0.123156</td>\n",
       "      <td>0</td>\n",
       "      <td>1</td>\n",
       "      <td>0</td>\n",
       "      <td>0</td>\n",
       "      <td>1</td>\n",
       "      <td>0</td>\n",
       "      <td>0</td>\n",
       "      <td>1</td>\n",
       "      <td>0</td>\n",
       "      <td>1</td>\n",
       "      <td>0</td>\n",
       "      <td>0</td>\n",
       "    </tr>\n",
       "  </tbody>\n",
       "</table>\n",
       "</div>"
      ],
      "text/plain": [
       "                    Timestamp  CupState  CurrentWeight  FanOn  \\\n",
       "0  2018-01-19 06:58:40.018000         1       0.092367      0   \n",
       "1  2018-01-19 06:58:40.120000         1       0.153945      0   \n",
       "2  2018-01-19 06:58:40.229000         1       0.092367      0   \n",
       "3  2018-01-19 06:58:40.339000         1       0.123156      0   \n",
       "4  2018-01-19 06:58:40.450000         1       0.123156      0   \n",
       "\n",
       "   HeatCoverClosed  HeaterOn  HeatingTimePercent  PotAvailable  Produce  \\\n",
       "0                1         0                   0             1        0   \n",
       "1                1         0                   0             1        0   \n",
       "2                1         0                   0             1        0   \n",
       "3                1         0                   0             1        0   \n",
       "4                1         0                   0             1        0   \n",
       "\n",
       "   ScaleCupDown  ScaleCupUp  SwitchToPot  TrackSwitchAtCup  TrackSwitchAtPot  \\\n",
       "0             0           1            0                 1                 0   \n",
       "1             0           1            0                 1                 0   \n",
       "2             0           1            0                 1                 0   \n",
       "3             0           1            0                 1                 0   \n",
       "4             0           1            0                 1                 0   \n",
       "\n",
       "   TurnScaleCup  \n",
       "0             0  \n",
       "1             0  \n",
       "2             0  \n",
       "3             0  \n",
       "4             0  "
      ]
     },
     "execution_count": 7,
     "metadata": {},
     "output_type": "execute_result"
    }
   ],
   "source": [
    "df.head(5)"
   ]
  },
  {
   "cell_type": "markdown",
   "metadata": {},
   "source": [
    "Uma vez feito isso, iniciamos os preparativos para a coleta dos tempos de execução de cada etapa."
   ]
  },
  {
   "cell_type": "code",
   "execution_count": 8,
   "metadata": {},
   "outputs": [],
   "source": [
    "df_aux = df.iloc[:7596]\n",
    "dfaux_n_linhas = df_aux.shape[0]"
   ]
  },
  {
   "cell_type": "code",
   "execution_count": 9,
   "metadata": {},
   "outputs": [],
   "source": [
    "periodos = [990, 1962, 2992, 3857, 4812, 5806, 6704, 7596]\n",
    "tempos = {\n",
    "    tempo: [] for tempo in [\n",
    "        'Enchimento da panela',\n",
    "        'Ligação do aquecedor',\n",
    "        'Aquecimento da panela',\n",
    "        'Enchimento do copo',\n",
    "        'Despejo do copo'\n",
    "    ]\n",
    "}"
   ]
  },
  {
   "cell_type": "markdown",
   "metadata": {},
   "source": [
    "E, ao fim, realizamos a coleta dos tempos de execução."
   ]
  },
  {
   "cell_type": "code",
   "execution_count": 10,
   "metadata": {},
   "outputs": [],
   "source": [
    "for periodo in periodos[:-1]:\n",
    "    index = periodos.index(periodo)+1\n",
    "    df = df_aux.iloc[periodo:periodos[index]]\n",
    "\n",
    "    # 1 - Tempo de enchimento da panela\n",
    "    tempo = df.query('CupState == 0')['Timestamp'].values\n",
    "    tempo = tempo[-1] - tempo[0]\n",
    "    tempos['Enchimento da panela'].append(float('{}.{}'.format(tempo.seconds, tempo.microseconds)))\n",
    "    \n",
    "    # 2 - Tempo entre momento que o processo iniciou e o aquecedor ligou\n",
    "    tempo = df.query('HeaterOn == 0')['Timestamp'].values[0]\n",
    "    tempo_aux = df.query('HeaterOn == 1')['Timestamp'].values[0]\n",
    "    tempo = tempo_aux - tempo\n",
    "    tempos['Ligação do aquecedor'].append(float('{}.{}'.format(tempo.seconds, tempo.microseconds)))\n",
    "    \n",
    "    # 3 - Tempo do momento que o aquecedor ligou, até começar a encher o copo de pipoca \n",
    "    tempo = df.query('HeaterOn == 1')['Timestamp'].values[0]\n",
    "    tempo_aux = df.query('HeaterOn == 1').query('CurrentWeight > 1')['Timestamp'].values[0]\n",
    "    tempo = tempo_aux - tempo\n",
    "    tempos['Aquecimento da panela'].append(float('{}.{}'.format(tempo.seconds, tempo.microseconds)))\n",
    "    \n",
    "    # 4 - Tempo entre o momento que o copo começa a encher de pipoca até o momento que começa a despejar (CupState: 1 -> 2)\n",
    "    tempo = df.query('HeaterOn == 1').query('CurrentWeight > 1')['Timestamp'].values[0]\n",
    "    tempo_aux = df.query('CupState == 2')['Timestamp'].values[0]\n",
    "    tempo = tempo_aux - tempo\n",
    "    tempos['Enchimento do copo'].append(float('{}.{}'.format(tempo.seconds, tempo.microseconds)))\n",
    "    \n",
    "    # 5 - Tempo de despejo de pipoca\n",
    "    tempo = df.query('CupState == 2')['Timestamp'].values[0]\n",
    "    tempo_aux = df.iloc[-1]['Timestamp']\n",
    "    tempo = tempo_aux - tempo\n",
    "    tempos['Despejo do copo'].append(float('{}.{}'.format(tempo.seconds, tempo.microseconds)))"
   ]
  },
  {
   "cell_type": "markdown",
   "metadata": {},
   "source": [
    "Assim, temos nossos tempos de execução como:"
   ]
  },
  {
   "cell_type": "code",
   "execution_count": 11,
   "metadata": {},
   "outputs": [
    {
     "data": {
      "text/html": [
       "<div>\n",
       "<style scoped>\n",
       "    .dataframe tbody tr th:only-of-type {\n",
       "        vertical-align: middle;\n",
       "    }\n",
       "\n",
       "    .dataframe tbody tr th {\n",
       "        vertical-align: top;\n",
       "    }\n",
       "\n",
       "    .dataframe thead th {\n",
       "        text-align: right;\n",
       "    }\n",
       "</style>\n",
       "<table border=\"1\" class=\"dataframe\">\n",
       "  <thead>\n",
       "    <tr style=\"text-align: right;\">\n",
       "      <th></th>\n",
       "      <th>Enchimento da panela</th>\n",
       "      <th>Ligação do aquecedor</th>\n",
       "      <th>Aquecimento da panela</th>\n",
       "      <th>Enchimento do copo</th>\n",
       "      <th>Despejo do copo</th>\n",
       "    </tr>\n",
       "  </thead>\n",
       "  <tbody>\n",
       "    <tr>\n",
       "      <th>0</th>\n",
       "      <td>4.266</td>\n",
       "      <td>16.189</td>\n",
       "      <td>41.237</td>\n",
       "      <td>7.876</td>\n",
       "      <td>40.909</td>\n",
       "    </tr>\n",
       "    <tr>\n",
       "      <th>1</th>\n",
       "      <td>3.829</td>\n",
       "      <td>16.298</td>\n",
       "      <td>38.722</td>\n",
       "      <td>7.328</td>\n",
       "      <td>50.207</td>\n",
       "    </tr>\n",
       "    <tr>\n",
       "      <th>2</th>\n",
       "      <td>4.156</td>\n",
       "      <td>7.547</td>\n",
       "      <td>16.845</td>\n",
       "      <td>25.490</td>\n",
       "      <td>45.660</td>\n",
       "    </tr>\n",
       "    <tr>\n",
       "      <th>3</th>\n",
       "      <td>5.141</td>\n",
       "      <td>184.310</td>\n",
       "      <td>33.581</td>\n",
       "      <td>7.875</td>\n",
       "      <td>45.722</td>\n",
       "    </tr>\n",
       "    <tr>\n",
       "      <th>4</th>\n",
       "      <td>9.626</td>\n",
       "      <td>22.205</td>\n",
       "      <td>32.377</td>\n",
       "      <td>8.860</td>\n",
       "      <td>45.175</td>\n",
       "    </tr>\n",
       "    <tr>\n",
       "      <th>5</th>\n",
       "      <td>3.828</td>\n",
       "      <td>12.907</td>\n",
       "      <td>0.000</td>\n",
       "      <td>40.690</td>\n",
       "      <td>44.519</td>\n",
       "    </tr>\n",
       "    <tr>\n",
       "      <th>6</th>\n",
       "      <td>3.391</td>\n",
       "      <td>10.720</td>\n",
       "      <td>30.631</td>\n",
       "      <td>9.950</td>\n",
       "      <td>46.160</td>\n",
       "    </tr>\n",
       "  </tbody>\n",
       "</table>\n",
       "</div>"
      ],
      "text/plain": [
       "   Enchimento da panela  Ligação do aquecedor  Aquecimento da panela  \\\n",
       "0                 4.266                16.189                 41.237   \n",
       "1                 3.829                16.298                 38.722   \n",
       "2                 4.156                 7.547                 16.845   \n",
       "3                 5.141               184.310                 33.581   \n",
       "4                 9.626                22.205                 32.377   \n",
       "5                 3.828                12.907                  0.000   \n",
       "6                 3.391                10.720                 30.631   \n",
       "\n",
       "   Enchimento do copo  Despejo do copo  \n",
       "0               7.876           40.909  \n",
       "1               7.328           50.207  \n",
       "2              25.490           45.660  \n",
       "3               7.875           45.722  \n",
       "4               8.860           45.175  \n",
       "5              40.690           44.519  \n",
       "6               9.950           46.160  "
      ]
     },
     "execution_count": 11,
     "metadata": {},
     "output_type": "execute_result"
    }
   ],
   "source": [
    "tempos = pd.DataFrame(tempos)\n",
    "tempos"
   ]
  },
  {
   "cell_type": "markdown",
   "metadata": {},
   "source": [
    "# Obtendo a distribuição dos tempos de cada etapa da execução"
   ]
  },
  {
   "cell_type": "code",
   "execution_count": 12,
   "metadata": {},
   "outputs": [
    {
     "data": {
      "image/png": "[encoded data removed]",
      "text/plain": [
       "<Figure size 1440x288 with 5 Axes>"
      ]
     },
     "metadata": {
      "needs_background": "light"
     },
     "output_type": "display_data"
    }
   ],
   "source": [
    "figura, eixos = plt.subplots(1, 5, figsize=(20, 4), sharey=True)\n",
    "\n",
    "for indice, coluna in enumerate(tempos.columns):\n",
    "    dados_filtrados = SubEntidade._filtra_outliers(tempos.loc[:, coluna])\n",
    "    sns.distplot(dados_filtrados, bins=4, kde=False, ax=eixos.ravel()[indice])\n",
    "    eixos.ravel()[indice].set_title(coluna)\n",
    "    eixos.ravel()[indice].set_xlabel(\"\")\n",
    "    eixos.ravel()[indice].set_ylabel(\"\")\n",
    "    eixos.ravel()[indice].set_ylim(0, 5)\n",
    "    eixos.ravel()[indice].yaxis.set_major_formatter(tkr.FormatStrFormatter('%d'))\n",
    "    eixos.ravel()[indice].yaxis.set_major_locator(tkr.MaxNLocator(integer=True))"
   ]
  },
  {
   "cell_type": "markdown",
   "metadata": {},
   "source": [
    "# Executando a simulação"
   ]
  },
  {
   "cell_type": "markdown",
   "metadata": {},
   "source": [
    "Agora, vamos começar nossas simulações de fato, com nossa implementação importada como `sim`.\n",
    "\n",
    "Para esse experimento, vamos verificar o desempenho do sistema em quatro cenários:\n",
    "    \n",
    "- *Controle:* cenário original, sem alterações\n",
    "- *Com a panela sempre cheia:* cenário onde não esvaziamos a panela\n",
    "- *Com o aquecedor sempre ligado:* cenário onde não desligamos o aquecedor\n",
    "- *Ambas otimizações:* cenário onde aplicamos ambas práticas\n",
    "\n",
    "Para facilitar nossos testes, escrevemos a seguinte rotina:"
   ]
  },
  {
   "cell_type": "code",
   "execution_count": 13,
   "metadata": {
    "pycharm": {
     "name": "#%%\n"
    }
   },
   "outputs": [],
   "source": [
    "def executa_processo(tempos, limite_de_tempo, execucoes):\n",
    "    # Definição de váriaveis containner\n",
    "    figura, eixo = plt.subplots(1, 1)\n",
    "    tempos_de_producao = {}\n",
    "    \n",
    "    # Iteração principal para realizar a execução sobre cada cenário\n",
    "    for estado_do_aquecedor in [False, True]:\n",
    "        for estado_da_panela in [False, True]:\n",
    "            \n",
    "            if estado_do_aquecedor is False:\n",
    "                categoria = \"Controle\" if estado_da_panela is False else \"Panela sempre cheia\"\n",
    "            else:\n",
    "                categoria = \"Aquecedor sempre ligado\" if estado_da_panela is False else \"Ambas as otimizações\"\n",
    "\n",
    "            print(categoria)\n",
    "\n",
    "            vetores = []\n",
    "\n",
    "            # Executando o processo 'execucoes' vezes e guardando os resultados na nossa lista de vetores\n",
    "            for _ in range(execucoes):\n",
    "                processo = sim.Processo(\n",
    "                    tempos,\n",
    "                    aquecedor_sempre_ligado=estado_do_aquecedor,\n",
    "                    panela_sempre_cheia=estado_da_panela,\n",
    "                    verboso=False\n",
    "                )\n",
    "\n",
    "                vetores.append(processo.executa(limite_de_tempo) / 60)\n",
    "\n",
    "            # Formatações para o DataFrame\n",
    "            for v in range(len(vetores)):\n",
    "                vetores[v] = pd.DataFrame(np.concatenate(\n",
    "                    (\n",
    "                        np.full((vetores[v].size, 1), categoria),\n",
    "                        np.full((vetores[v].size, 1), v),\n",
    "                        np.arange(1, vetores[v].size + 1).reshape(-1, 1),\n",
    "                        vetores[v].reshape(-1, 1)\n",
    "                    ), axis=1\n",
    "                ), columns=[\"Categoria\", \"Execução\", \"Porções produzidas\", \"Minutos decorridos\"])\n",
    "\n",
    "            tempos_de_producao[categoria] = pd.concat(vetores, axis=0)\n",
    "\n",
    "    tempos_de_producao = pd.concat(tempos_de_producao.values(), axis=0)\n",
    "\n",
    "    for coluna in [\"Execução\", \"Porções produzidas\", \"Minutos decorridos\"]:\n",
    "        tempos_de_producao.loc[:, coluna] = pd.to_numeric(tempos_de_producao.loc[:, coluna])\n",
    "\n",
    "    sns.lineplot(data=tempos_de_producao, x=\"Porções produzidas\", y=\"Minutos decorridos\", hue=\"Categoria\", ax=eixo)\n",
    "    eixo.axvline(x=34, color=\"k\", linestyle=\"--\")\n",
    "\n",
    "    return figura, tempos_de_producao"
   ]
  },
  {
   "cell_type": "markdown",
   "metadata": {},
   "source": [
    "A execução desta função requer basicamente três parâmetros: os tempos coletados, o tempo limite de execução de cada simulação, e o número de vezes que cada experimento deve ser executado."
   ]
  },
  {
   "cell_type": "code",
   "execution_count": 14,
   "metadata": {},
   "outputs": [],
   "source": [
    "limite_de_tempo = 3600\n",
    "numero_de_execucoes = 1000"
   ]
  },
  {
   "cell_type": "code",
   "execution_count": 15,
   "metadata": {
    "pycharm": {
     "name": "#%%\n"
    }
   },
   "outputs": [
    {
     "name": "stdout",
     "output_type": "stream",
     "text": [
      "Controle\n",
      "Panela sempre cheia\n",
      "Aquecedor sempre ligado\n",
      "Ambas as otimizações\n"
     ]
    },
    {
     "data": {
      "image/png": "[encoded data removed]",
      "text/plain": [
       "<Figure size 432x288 with 1 Axes>"
      ]
     },
     "metadata": {
      "needs_background": "light"
     },
     "output_type": "display_data"
    }
   ],
   "source": [
    "figura, resultados = executa_processo(tempos.to_numpy(), limite_de_tempo, numero_de_execucoes)"
   ]
  }
 ],
 "metadata": {
  "kernelspec": {
   "display_name": "Python 3",
   "language": "python",
   "name": "python3"
  },
  "language_info": {
   "codemirror_mode": {
    "name": "ipython",
    "version": 3
   },
   "file_extension": ".py",
   "mimetype": "text/x-python",
   "name": "python",
   "nbconvert_exporter": "python",
   "pygments_lexer": "ipython3",
   "version": "3.7.6"
  }
 },
 "nbformat": 4,
 "nbformat_minor": 4
}
